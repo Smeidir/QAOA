{
 "cells": [
  {
   "cell_type": "code",
   "execution_count": 3,
   "metadata": {},
   "outputs": [
    {
     "name": "stderr",
     "output_type": "stream",
     "text": [
      "2024-12-09 10:00:34,779\tINFO worker.py:1810 -- Started a local Ray instance. View the dashboard at \u001b[1m\u001b[32m127.0.0.1:8265 \u001b[39m\u001b[22m\n"
     ]
    },
    {
     "name": "stdout",
     "output_type": "stream",
     "text": [
      "5\n",
      "combos 2\n",
      "len all_combos 400\n",
      "Settings: [('uniform', 'COBYLA', 'recursive', False, False, 3), ('uniform', 'COBYQA', 'recursive', False, False, 3), ('gaussian', 'COBYLA', 'recursive', False, False, 3), ('gaussian', 'COBYQA', 'recursive', False, False, 3)]\n",
      "\u001b[36m(parallell_runner pid=6084)\u001b[0m You are running on the local simulator:  fake_brisbane\n"
     ]
    },
    {
     "ename": "KeyboardInterrupt",
     "evalue": "",
     "output_type": "error",
     "traceback": [
      "\u001b[1;31m---------------------------------------------------------------------------\u001b[0m",
      "\u001b[1;31mKeyboardInterrupt\u001b[0m                         Traceback (most recent call last)",
      "Cell \u001b[1;32mIn[3], line 76\u001b[0m\n\u001b[0;32m     72\u001b[0m \u001b[38;5;28mprint\u001b[39m(\u001b[38;5;124m'\u001b[39m\u001b[38;5;124mSettings:\u001b[39m\u001b[38;5;124m'\u001b[39m, settings)\n\u001b[0;32m     74\u001b[0m futures \u001b[38;5;241m=\u001b[39m [parallell_runner\u001b[38;5;241m.\u001b[39mremote(parameters, graph, name) \u001b[38;5;28;01mfor\u001b[39;00m parameters, graph, name \u001b[38;5;129;01min\u001b[39;00m all_combos]\n\u001b[1;32m---> 76\u001b[0m result_ids, unfinished \u001b[38;5;241m=\u001b[39m \u001b[43mray\u001b[49m\u001b[38;5;241;43m.\u001b[39;49m\u001b[43mwait\u001b[49m\u001b[43m(\u001b[49m\u001b[43mfutures\u001b[49m\u001b[43m,\u001b[49m\u001b[43m \u001b[49m\u001b[43mtimeout\u001b[49m\u001b[43m \u001b[49m\u001b[38;5;241;43m=\u001b[39;49m\u001b[43m \u001b[49m\u001b[38;5;241;43m60\u001b[39;49m\u001b[38;5;241;43m*\u001b[39;49m\u001b[38;5;241;43m60\u001b[39;49m\u001b[38;5;241;43m*\u001b[39;49m\u001b[38;5;241;43m12\u001b[39;49m\u001b[43m,\u001b[49m\u001b[43m \u001b[49m\u001b[43mnum_returns\u001b[49m\u001b[43m \u001b[49m\u001b[38;5;241;43m=\u001b[39;49m\u001b[43m \u001b[49m\u001b[38;5;28;43mlen\u001b[39;49m\u001b[43m(\u001b[49m\u001b[43mall_combos\u001b[49m\u001b[43m)\u001b[49m\u001b[43m)\u001b[49m\n\u001b[0;32m     77\u001b[0m \u001b[38;5;28;01mfor\u001b[39;00m task \u001b[38;5;129;01min\u001b[39;00m unfinished:\n\u001b[0;32m     78\u001b[0m     ray\u001b[38;5;241m.\u001b[39mcancel(task)\n",
      "File \u001b[1;32mc:\\Users\\torbjsme\\Master\\QAOA\\myenv\\lib\\site-packages\\ray\\_private\\auto_init_hook.py:21\u001b[0m, in \u001b[0;36mwrap_auto_init.<locals>.auto_init_wrapper\u001b[1;34m(*args, **kwargs)\u001b[0m\n\u001b[0;32m     18\u001b[0m \u001b[38;5;129m@wraps\u001b[39m(fn)\n\u001b[0;32m     19\u001b[0m \u001b[38;5;28;01mdef\u001b[39;00m \u001b[38;5;21mauto_init_wrapper\u001b[39m(\u001b[38;5;241m*\u001b[39margs, \u001b[38;5;241m*\u001b[39m\u001b[38;5;241m*\u001b[39mkwargs):\n\u001b[0;32m     20\u001b[0m     auto_init_ray()\n\u001b[1;32m---> 21\u001b[0m     \u001b[38;5;28;01mreturn\u001b[39;00m fn(\u001b[38;5;241m*\u001b[39margs, \u001b[38;5;241m*\u001b[39m\u001b[38;5;241m*\u001b[39mkwargs)\n",
      "File \u001b[1;32mc:\\Users\\torbjsme\\Master\\QAOA\\myenv\\lib\\site-packages\\ray\\_private\\client_mode_hook.py:103\u001b[0m, in \u001b[0;36mclient_mode_hook.<locals>.wrapper\u001b[1;34m(*args, **kwargs)\u001b[0m\n\u001b[0;32m    101\u001b[0m     \u001b[38;5;28;01mif\u001b[39;00m func\u001b[38;5;241m.\u001b[39m\u001b[38;5;18m__name__\u001b[39m \u001b[38;5;241m!=\u001b[39m \u001b[38;5;124m\"\u001b[39m\u001b[38;5;124minit\u001b[39m\u001b[38;5;124m\"\u001b[39m \u001b[38;5;129;01mor\u001b[39;00m is_client_mode_enabled_by_default:\n\u001b[0;32m    102\u001b[0m         \u001b[38;5;28;01mreturn\u001b[39;00m \u001b[38;5;28mgetattr\u001b[39m(ray, func\u001b[38;5;241m.\u001b[39m\u001b[38;5;18m__name__\u001b[39m)(\u001b[38;5;241m*\u001b[39margs, \u001b[38;5;241m*\u001b[39m\u001b[38;5;241m*\u001b[39mkwargs)\n\u001b[1;32m--> 103\u001b[0m \u001b[38;5;28;01mreturn\u001b[39;00m func(\u001b[38;5;241m*\u001b[39margs, \u001b[38;5;241m*\u001b[39m\u001b[38;5;241m*\u001b[39mkwargs)\n",
      "File \u001b[1;32mc:\\Users\\torbjsme\\Master\\QAOA\\myenv\\lib\\site-packages\\ray\\_private\\worker.py:2984\u001b[0m, in \u001b[0;36mwait\u001b[1;34m(ray_waitables, num_returns, timeout, fetch_local)\u001b[0m\n\u001b[0;32m   2982\u001b[0m timeout \u001b[38;5;241m=\u001b[39m timeout \u001b[38;5;28;01mif\u001b[39;00m timeout \u001b[38;5;129;01mis\u001b[39;00m \u001b[38;5;129;01mnot\u001b[39;00m \u001b[38;5;28;01mNone\u001b[39;00m \u001b[38;5;28;01melse\u001b[39;00m \u001b[38;5;241m10\u001b[39m\u001b[38;5;241m*\u001b[39m\u001b[38;5;241m*\u001b[39m\u001b[38;5;241m6\u001b[39m\n\u001b[0;32m   2983\u001b[0m timeout_milliseconds \u001b[38;5;241m=\u001b[39m \u001b[38;5;28mint\u001b[39m(timeout \u001b[38;5;241m*\u001b[39m \u001b[38;5;241m1000\u001b[39m)\n\u001b[1;32m-> 2984\u001b[0m ready_ids, remaining_ids \u001b[38;5;241m=\u001b[39m \u001b[43mworker\u001b[49m\u001b[38;5;241;43m.\u001b[39;49m\u001b[43mcore_worker\u001b[49m\u001b[38;5;241;43m.\u001b[39;49m\u001b[43mwait\u001b[49m\u001b[43m(\u001b[49m\n\u001b[0;32m   2985\u001b[0m \u001b[43m    \u001b[49m\u001b[43mray_waitables\u001b[49m\u001b[43m,\u001b[49m\n\u001b[0;32m   2986\u001b[0m \u001b[43m    \u001b[49m\u001b[43mnum_returns\u001b[49m\u001b[43m,\u001b[49m\n\u001b[0;32m   2987\u001b[0m \u001b[43m    \u001b[49m\u001b[43mtimeout_milliseconds\u001b[49m\u001b[43m,\u001b[49m\n\u001b[0;32m   2988\u001b[0m \u001b[43m    \u001b[49m\u001b[43mworker\u001b[49m\u001b[38;5;241;43m.\u001b[39;49m\u001b[43mcurrent_task_id\u001b[49m\u001b[43m,\u001b[49m\n\u001b[0;32m   2989\u001b[0m \u001b[43m    \u001b[49m\u001b[43mfetch_local\u001b[49m\u001b[43m,\u001b[49m\n\u001b[0;32m   2990\u001b[0m \u001b[43m\u001b[49m\u001b[43m)\u001b[49m\n\u001b[0;32m   2991\u001b[0m \u001b[38;5;28;01mreturn\u001b[39;00m ready_ids, remaining_ids\n",
      "File \u001b[1;32mpython\\ray\\_raylet.pyx:3816\u001b[0m, in \u001b[0;36mray._raylet.CoreWorker.wait\u001b[1;34m()\u001b[0m\n",
      "File \u001b[1;32mpython\\ray\\includes/common.pxi:79\u001b[0m, in \u001b[0;36mray._raylet.check_status\u001b[1;34m()\u001b[0m\n",
      "\u001b[1;31mKeyboardInterrupt\u001b[0m: "
     ]
    },
    {
     "name": "stdout",
     "output_type": "stream",
     "text": [
      "\u001b[36m(parallell_runner pid=32868)\u001b[0m You are running on the local simulator:  fake_brisbane\n"
     ]
    },
    {
     "name": "stderr",
     "output_type": "stream",
     "text": [
      "2024-12-09 10:16:25,908\tERROR worker.py:422 -- Unhandled error (suppress with 'RAY_IGNORE_UNHANDLED_ERRORS=1'): \u001b[36mray::parallell_runner()\u001b[39m (pid=32868, ip=127.0.0.1)\n",
      "  File \"python\\ray\\_raylet.pyx\", line 1862, in ray._raylet.execute_task\n",
      "  File \"C:\\Users\\torbjsme\\AppData\\Local\\Temp\\ipykernel_16088\\2554263550.py\", line 37, in parallell_runner\n",
      "AttributeError: module 'params' has no attribute 'depth'\n"
     ]
    },
    {
     "name": "stdout",
     "output_type": "stream",
     "text": [
      "\u001b[36m(parallell_runner pid=28004)\u001b[0m You are running on the local simulator:  fake_brisbane\n"
     ]
    },
    {
     "name": "stderr",
     "output_type": "stream",
     "text": [
      "2024-12-09 10:16:35,021\tERROR worker.py:422 -- Unhandled error (suppress with 'RAY_IGNORE_UNHANDLED_ERRORS=1'): \u001b[36mray::parallell_runner()\u001b[39m (pid=28004, ip=127.0.0.1)\n",
      "  File \"python\\ray\\_raylet.pyx\", line 1862, in ray._raylet.execute_task\n",
      "  File \"C:\\Users\\torbjsme\\AppData\\Local\\Temp\\ipykernel_16088\\2554263550.py\", line 37, in parallell_runner\n",
      "AttributeError: module 'params' has no attribute 'depth'\n"
     ]
    },
    {
     "name": "stdout",
     "output_type": "stream",
     "text": [
      "\u001b[36m(parallell_runner pid=21512)\u001b[0m You are running on the local simulator:  fake_brisbane\n"
     ]
    },
    {
     "name": "stderr",
     "output_type": "stream",
     "text": [
      "2024-12-09 10:17:08,598\tERROR worker.py:422 -- Unhandled error (suppress with 'RAY_IGNORE_UNHANDLED_ERRORS=1'): \u001b[36mray::parallell_runner()\u001b[39m (pid=13968, ip=127.0.0.1)\n",
      "  File \"python\\ray\\_raylet.pyx\", line 1862, in ray._raylet.execute_task\n",
      "  File \"C:\\Users\\torbjsme\\AppData\\Local\\Temp\\ipykernel_16088\\2554263550.py\", line 37, in parallell_runner\n",
      "AttributeError: module 'params' has no attribute 'depth'\n",
      "2024-12-09 10:17:08,608\tERROR worker.py:422 -- Unhandled error (suppress with 'RAY_IGNORE_UNHANDLED_ERRORS=1'): \u001b[36mray::parallell_runner()\u001b[39m (pid=21512, ip=127.0.0.1)\n",
      "  File \"python\\ray\\_raylet.pyx\", line 1862, in ray._raylet.execute_task\n",
      "  File \"C:\\Users\\torbjsme\\AppData\\Local\\Temp\\ipykernel_16088\\2554263550.py\", line 37, in parallell_runner\n",
      "AttributeError: module 'params' has no attribute 'depth'\n"
     ]
    },
    {
     "name": "stdout",
     "output_type": "stream",
     "text": [
      "\u001b[36m(parallell_runner pid=32572)\u001b[0m You are running on the local simulator:  fake_brisbane\u001b[32m [repeated 2x across cluster]\u001b[0m\n"
     ]
    },
    {
     "name": "stderr",
     "output_type": "stream",
     "text": [
      "2024-12-09 10:17:52,582\tERROR worker.py:422 -- Unhandled error (suppress with 'RAY_IGNORE_UNHANDLED_ERRORS=1'): \u001b[36mray::parallell_runner()\u001b[39m (pid=32572, ip=127.0.0.1)\n",
      "  File \"python\\ray\\_raylet.pyx\", line 1862, in ray._raylet.execute_task\n",
      "  File \"C:\\Users\\torbjsme\\AppData\\Local\\Temp\\ipykernel_16088\\2554263550.py\", line 37, in parallell_runner\n",
      "AttributeError: module 'params' has no attribute 'depth'\n"
     ]
    },
    {
     "name": "stdout",
     "output_type": "stream",
     "text": [
      "\u001b[36m(parallell_runner pid=12016)\u001b[0m You are running on the local simulator:  fake_brisbane\u001b[32m [repeated 2x across cluster]\u001b[0m\n"
     ]
    },
    {
     "name": "stderr",
     "output_type": "stream",
     "text": [
      "2024-12-09 10:17:53,609\tERROR worker.py:422 -- Unhandled error (suppress with 'RAY_IGNORE_UNHANDLED_ERRORS=1'): \u001b[36mray::parallell_runner()\u001b[39m (pid=33188, ip=127.0.0.1)\n",
      "  File \"python\\ray\\_raylet.pyx\", line 1862, in ray._raylet.execute_task\n",
      "  File \"C:\\Users\\torbjsme\\AppData\\Local\\Temp\\ipykernel_16088\\2554263550.py\", line 37, in parallell_runner\n",
      "AttributeError: module 'params' has no attribute 'depth'\n",
      "2024-12-09 10:17:57,651\tERROR worker.py:422 -- Unhandled error (suppress with 'RAY_IGNORE_UNHANDLED_ERRORS=1'): \u001b[36mray::parallell_runner()\u001b[39m (pid=12016, ip=127.0.0.1)\n",
      "  File \"python\\ray\\_raylet.pyx\", line 1862, in ray._raylet.execute_task\n",
      "  File \"C:\\Users\\torbjsme\\AppData\\Local\\Temp\\ipykernel_16088\\2554263550.py\", line 37, in parallell_runner\n",
      "AttributeError: module 'params' has no attribute 'depth'\n",
      "2024-12-09 10:18:01,742\tERROR worker.py:422 -- Unhandled error (suppress with 'RAY_IGNORE_UNHANDLED_ERRORS=1'): \u001b[36mray::parallell_runner()\u001b[39m (pid=18272, ip=127.0.0.1)\n",
      "  File \"python\\ray\\_raylet.pyx\", line 1862, in ray._raylet.execute_task\n",
      "  File \"C:\\Users\\torbjsme\\AppData\\Local\\Temp\\ipykernel_16088\\2554263550.py\", line 37, in parallell_runner\n",
      "AttributeError: module 'params' has no attribute 'depth'\n"
     ]
    },
    {
     "name": "stdout",
     "output_type": "stream",
     "text": [
      "\u001b[36m(parallell_runner pid=31240)\u001b[0m You are running on the local simulator:  fake_brisbane\u001b[32m [repeated 2x across cluster]\u001b[0m\n"
     ]
    },
    {
     "name": "stderr",
     "output_type": "stream",
     "text": [
      "2024-12-09 10:18:35,422\tERROR worker.py:422 -- Unhandled error (suppress with 'RAY_IGNORE_UNHANDLED_ERRORS=1'): \u001b[36mray::parallell_runner()\u001b[39m (pid=31240, ip=127.0.0.1)\n",
      "  File \"python\\ray\\_raylet.pyx\", line 1862, in ray._raylet.execute_task\n",
      "  File \"C:\\Users\\torbjsme\\AppData\\Local\\Temp\\ipykernel_16088\\2554263550.py\", line 37, in parallell_runner\n",
      "AttributeError: module 'params' has no attribute 'depth'\n"
     ]
    },
    {
     "name": "stdout",
     "output_type": "stream",
     "text": [
      "\u001b[36m(parallell_runner pid=30200)\u001b[0m You are running on the local simulator:  fake_brisbane\n"
     ]
    },
    {
     "name": "stderr",
     "output_type": "stream",
     "text": [
      "2024-12-09 10:19:07,221\tERROR worker.py:422 -- Unhandled error (suppress with 'RAY_IGNORE_UNHANDLED_ERRORS=1'): \u001b[36mray::parallell_runner()\u001b[39m (pid=30200, ip=127.0.0.1)\n",
      "  File \"python\\ray\\_raylet.pyx\", line 1862, in ray._raylet.execute_task\n",
      "  File \"C:\\Users\\torbjsme\\AppData\\Local\\Temp\\ipykernel_16088\\2554263550.py\", line 37, in parallell_runner\n",
      "AttributeError: module 'params' has no attribute 'depth'\n"
     ]
    },
    {
     "name": "stdout",
     "output_type": "stream",
     "text": [
      "\u001b[36m(parallell_runner pid=27688)\u001b[0m You are running on the local simulator:  fake_brisbane\n"
     ]
    },
    {
     "name": "stderr",
     "output_type": "stream",
     "text": [
      "2024-12-09 10:19:34,886\tERROR worker.py:422 -- Unhandled error (suppress with 'RAY_IGNORE_UNHANDLED_ERRORS=1'): \u001b[36mray::parallell_runner()\u001b[39m (pid=27688, ip=127.0.0.1)\n",
      "  File \"python\\ray\\_raylet.pyx\", line 1862, in ray._raylet.execute_task\n",
      "  File \"C:\\Users\\torbjsme\\AppData\\Local\\Temp\\ipykernel_16088\\2554263550.py\", line 37, in parallell_runner\n",
      "AttributeError: module 'params' has no attribute 'depth'\n"
     ]
    },
    {
     "name": "stdout",
     "output_type": "stream",
     "text": [
      "\u001b[36m(parallell_runner pid=21600)\u001b[0m You are running on the local simulator:  fake_brisbane\u001b[32m [repeated 2x across cluster]\u001b[0m\n"
     ]
    },
    {
     "name": "stderr",
     "output_type": "stream",
     "text": [
      "2024-12-09 10:19:38,997\tERROR worker.py:422 -- Unhandled error (suppress with 'RAY_IGNORE_UNHANDLED_ERRORS=1'): \u001b[36mray::parallell_runner()\u001b[39m (pid=6084, ip=127.0.0.1)\n",
      "  File \"python\\ray\\_raylet.pyx\", line 1862, in ray._raylet.execute_task\n",
      "  File \"C:\\Users\\torbjsme\\AppData\\Local\\Temp\\ipykernel_16088\\2554263550.py\", line 37, in parallell_runner\n",
      "AttributeError: module 'params' has no attribute 'depth'\n",
      "2024-12-09 10:19:41,076\tERROR worker.py:422 -- Unhandled error (suppress with 'RAY_IGNORE_UNHANDLED_ERRORS=1'): \u001b[36mray::parallell_runner()\u001b[39m (pid=21600, ip=127.0.0.1)\n",
      "  File \"python\\ray\\_raylet.pyx\", line 1862, in ray._raylet.execute_task\n",
      "  File \"C:\\Users\\torbjsme\\AppData\\Local\\Temp\\ipykernel_16088\\2554263550.py\", line 37, in parallell_runner\n",
      "AttributeError: module 'params' has no attribute 'depth'\n"
     ]
    },
    {
     "name": "stdout",
     "output_type": "stream",
     "text": [
      "\u001b[36m(parallell_runner pid=30380)\u001b[0m You are running on the local simulator:  fake_brisbane\n"
     ]
    },
    {
     "name": "stderr",
     "output_type": "stream",
     "text": [
      "2024-12-09 10:20:35,695\tERROR worker.py:422 -- Unhandled error (suppress with 'RAY_IGNORE_UNHANDLED_ERRORS=1'): \u001b[36mray::parallell_runner()\u001b[39m (pid=30380, ip=127.0.0.1)\n",
      "  File \"python\\ray\\_raylet.pyx\", line 1862, in ray._raylet.execute_task\n",
      "  File \"C:\\Users\\torbjsme\\AppData\\Local\\Temp\\ipykernel_16088\\2554263550.py\", line 37, in parallell_runner\n",
      "AttributeError: module 'params' has no attribute 'depth'\n"
     ]
    },
    {
     "name": "stdout",
     "output_type": "stream",
     "text": [
      "\u001b[36m(parallell_runner pid=12016)\u001b[0m You are running on the local simulator:  fake_brisbane\n"
     ]
    },
    {
     "name": "stderr",
     "output_type": "stream",
     "text": [
      "2024-12-09 10:35:04,812\tERROR worker.py:422 -- Unhandled error (suppress with 'RAY_IGNORE_UNHANDLED_ERRORS=1'): \u001b[36mray::parallell_runner()\u001b[39m (pid=12016, ip=127.0.0.1)\n",
      "  File \"python\\ray\\_raylet.pyx\", line 1862, in ray._raylet.execute_task\n",
      "  File \"C:\\Users\\torbjsme\\AppData\\Local\\Temp\\ipykernel_16088\\2554263550.py\", line 37, in parallell_runner\n",
      "AttributeError: module 'params' has no attribute 'depth'\n"
     ]
    },
    {
     "name": "stdout",
     "output_type": "stream",
     "text": [
      "\u001b[36m(parallell_runner pid=33188)\u001b[0m You are running on the local simulator:  fake_brisbane\n"
     ]
    },
    {
     "name": "stderr",
     "output_type": "stream",
     "text": [
      "2024-12-09 10:35:46,792\tERROR worker.py:422 -- Unhandled error (suppress with 'RAY_IGNORE_UNHANDLED_ERRORS=1'): \u001b[36mray::parallell_runner()\u001b[39m (pid=33188, ip=127.0.0.1)\n",
      "  File \"python\\ray\\_raylet.pyx\", line 1862, in ray._raylet.execute_task\n",
      "  File \"C:\\Users\\torbjsme\\AppData\\Local\\Temp\\ipykernel_16088\\2554263550.py\", line 37, in parallell_runner\n",
      "AttributeError: module 'params' has no attribute 'depth'\n"
     ]
    },
    {
     "name": "stdout",
     "output_type": "stream",
     "text": [
      "\u001b[36m(parallell_runner pid=18272)\u001b[0m You are running on the local simulator:  fake_brisbane\n"
     ]
    },
    {
     "name": "stderr",
     "output_type": "stream",
     "text": [
      "2024-12-09 10:36:19,668\tERROR worker.py:422 -- Unhandled error (suppress with 'RAY_IGNORE_UNHANDLED_ERRORS=1'): \u001b[36mray::parallell_runner()\u001b[39m (pid=18272, ip=127.0.0.1)\n",
      "  File \"python\\ray\\_raylet.pyx\", line 1862, in ray._raylet.execute_task\n",
      "  File \"C:\\Users\\torbjsme\\AppData\\Local\\Temp\\ipykernel_16088\\2554263550.py\", line 37, in parallell_runner\n",
      "AttributeError: module 'params' has no attribute 'depth'\n"
     ]
    },
    {
     "name": "stdout",
     "output_type": "stream",
     "text": [
      "\u001b[36m(parallell_runner pid=30200)\u001b[0m You are running on the local simulator:  fake_brisbane\n"
     ]
    },
    {
     "name": "stderr",
     "output_type": "stream",
     "text": [
      "2024-12-09 10:36:40,330\tERROR worker.py:422 -- Unhandled error (suppress with 'RAY_IGNORE_UNHANDLED_ERRORS=1'): \u001b[36mray::parallell_runner()\u001b[39m (pid=30200, ip=127.0.0.1)\n",
      "  File \"python\\ray\\_raylet.pyx\", line 1862, in ray._raylet.execute_task\n",
      "  File \"C:\\Users\\torbjsme\\AppData\\Local\\Temp\\ipykernel_16088\\2554263550.py\", line 37, in parallell_runner\n",
      "AttributeError: module 'params' has no attribute 'depth'\n"
     ]
    },
    {
     "name": "stdout",
     "output_type": "stream",
     "text": [
      "\u001b[36m(parallell_runner pid=28004)\u001b[0m You are running on the local simulator:  fake_brisbane\n"
     ]
    },
    {
     "name": "stderr",
     "output_type": "stream",
     "text": [
      "2024-12-09 10:36:59,840\tERROR worker.py:422 -- Unhandled error (suppress with 'RAY_IGNORE_UNHANDLED_ERRORS=1'): \u001b[36mray::parallell_runner()\u001b[39m (pid=28004, ip=127.0.0.1)\n",
      "  File \"python\\ray\\_raylet.pyx\", line 1862, in ray._raylet.execute_task\n",
      "  File \"C:\\Users\\torbjsme\\AppData\\Local\\Temp\\ipykernel_16088\\2554263550.py\", line 37, in parallell_runner\n",
      "AttributeError: module 'params' has no attribute 'depth'\n",
      "2024-12-09 10:37:03,881\tERROR worker.py:422 -- Unhandled error (suppress with 'RAY_IGNORE_UNHANDLED_ERRORS=1'): \u001b[36mray::parallell_runner()\u001b[39m (pid=30380, ip=127.0.0.1)\n",
      "  File \"python\\ray\\_raylet.pyx\", line 1862, in ray._raylet.execute_task\n",
      "  File \"C:\\Users\\torbjsme\\AppData\\Local\\Temp\\ipykernel_16088\\2554263550.py\", line 37, in parallell_runner\n",
      "AttributeError: module 'params' has no attribute 'depth'\n"
     ]
    },
    {
     "name": "stdout",
     "output_type": "stream",
     "text": [
      "\u001b[36m(parallell_runner pid=31240)\u001b[0m You are running on the local simulator:  fake_brisbane\u001b[32m [repeated 2x across cluster]\u001b[0m\n"
     ]
    },
    {
     "name": "stderr",
     "output_type": "stream",
     "text": [
      "2024-12-09 10:37:14,198\tERROR worker.py:422 -- Unhandled error (suppress with 'RAY_IGNORE_UNHANDLED_ERRORS=1'): \u001b[36mray::parallell_runner()\u001b[39m (pid=31240, ip=127.0.0.1)\n",
      "  File \"python\\ray\\_raylet.pyx\", line 1862, in ray._raylet.execute_task\n",
      "  File \"C:\\Users\\torbjsme\\AppData\\Local\\Temp\\ipykernel_16088\\2554263550.py\", line 37, in parallell_runner\n",
      "AttributeError: module 'params' has no attribute 'depth'\n",
      "2024-12-09 10:37:16,232\tERROR worker.py:422 -- Unhandled error (suppress with 'RAY_IGNORE_UNHANDLED_ERRORS=1'): \u001b[36mray::parallell_runner()\u001b[39m (pid=21600, ip=127.0.0.1)\n",
      "  File \"python\\ray\\_raylet.pyx\", line 1862, in ray._raylet.execute_task\n",
      "  File \"C:\\Users\\torbjsme\\AppData\\Local\\Temp\\ipykernel_16088\\2554263550.py\", line 37, in parallell_runner\n",
      "AttributeError: module 'params' has no attribute 'depth'\n"
     ]
    },
    {
     "name": "stdout",
     "output_type": "stream",
     "text": [
      "\u001b[36m(parallell_runner pid=27688)\u001b[0m You are running on the local simulator:  fake_brisbane\u001b[32m [repeated 2x across cluster]\u001b[0m\n"
     ]
    },
    {
     "name": "stderr",
     "output_type": "stream",
     "text": [
      "2024-12-09 10:37:38,922\tERROR worker.py:422 -- Unhandled error (suppress with 'RAY_IGNORE_UNHANDLED_ERRORS=1'): \u001b[36mray::parallell_runner()\u001b[39m (pid=27688, ip=127.0.0.1)\n",
      "  File \"python\\ray\\_raylet.pyx\", line 1862, in ray._raylet.execute_task\n",
      "  File \"C:\\Users\\torbjsme\\AppData\\Local\\Temp\\ipykernel_16088\\2554263550.py\", line 37, in parallell_runner\n",
      "AttributeError: module 'params' has no attribute 'depth'\n"
     ]
    },
    {
     "name": "stdout",
     "output_type": "stream",
     "text": [
      "\u001b[36m(parallell_runner pid=6084)\u001b[0m You are running on the local simulator:  fake_brisbane\n"
     ]
    },
    {
     "name": "stderr",
     "output_type": "stream",
     "text": [
      "2024-12-09 10:38:02,707\tERROR worker.py:422 -- Unhandled error (suppress with 'RAY_IGNORE_UNHANDLED_ERRORS=1'): \u001b[36mray::parallell_runner()\u001b[39m (pid=6084, ip=127.0.0.1)\n",
      "  File \"python\\ray\\_raylet.pyx\", line 1862, in ray._raylet.execute_task\n",
      "  File \"C:\\Users\\torbjsme\\AppData\\Local\\Temp\\ipykernel_16088\\2554263550.py\", line 37, in parallell_runner\n",
      "AttributeError: module 'params' has no attribute 'depth'\n"
     ]
    },
    {
     "name": "stdout",
     "output_type": "stream",
     "text": [
      "\u001b[36m(parallell_runner pid=13968)\u001b[0m You are running on the local simulator:  fake_brisbane\n"
     ]
    },
    {
     "name": "stderr",
     "output_type": "stream",
     "text": [
      "2024-12-09 10:38:18,194\tERROR worker.py:422 -- Unhandled error (suppress with 'RAY_IGNORE_UNHANDLED_ERRORS=1'): \u001b[36mray::parallell_runner()\u001b[39m (pid=13968, ip=127.0.0.1)\n",
      "  File \"python\\ray\\_raylet.pyx\", line 1862, in ray._raylet.execute_task\n",
      "  File \"C:\\Users\\torbjsme\\AppData\\Local\\Temp\\ipykernel_16088\\2554263550.py\", line 37, in parallell_runner\n",
      "AttributeError: module 'params' has no attribute 'depth'\n"
     ]
    },
    {
     "name": "stdout",
     "output_type": "stream",
     "text": [
      "\u001b[36m(parallell_runner pid=32868)\u001b[0m You are running on the local simulator:  fake_brisbane\n"
     ]
    },
    {
     "name": "stderr",
     "output_type": "stream",
     "text": [
      "2024-12-09 10:39:08,789\tERROR worker.py:422 -- Unhandled error (suppress with 'RAY_IGNORE_UNHANDLED_ERRORS=1'): \u001b[36mray::parallell_runner()\u001b[39m (pid=32868, ip=127.0.0.1)\n",
      "  File \"python\\ray\\_raylet.pyx\", line 1862, in ray._raylet.execute_task\n",
      "  File \"C:\\Users\\torbjsme\\AppData\\Local\\Temp\\ipykernel_16088\\2554263550.py\", line 37, in parallell_runner\n",
      "AttributeError: module 'params' has no attribute 'depth'\n"
     ]
    },
    {
     "name": "stdout",
     "output_type": "stream",
     "text": [
      "\u001b[36m(parallell_runner pid=21512)\u001b[0m You are running on the local simulator:  fake_brisbane\n"
     ]
    },
    {
     "name": "stderr",
     "output_type": "stream",
     "text": [
      "2024-12-09 10:39:19,172\tERROR worker.py:422 -- Unhandled error (suppress with 'RAY_IGNORE_UNHANDLED_ERRORS=1'): \u001b[36mray::parallell_runner()\u001b[39m (pid=21512, ip=127.0.0.1)\n",
      "  File \"python\\ray\\_raylet.pyx\", line 1862, in ray._raylet.execute_task\n",
      "  File \"C:\\Users\\torbjsme\\AppData\\Local\\Temp\\ipykernel_16088\\2554263550.py\", line 37, in parallell_runner\n",
      "AttributeError: module 'params' has no attribute 'depth'\n"
     ]
    },
    {
     "name": "stdout",
     "output_type": "stream",
     "text": [
      "\u001b[36m(parallell_runner pid=32572)\u001b[0m You are running on the local simulator:  fake_brisbane\n"
     ]
    },
    {
     "name": "stderr",
     "output_type": "stream",
     "text": [
      "2024-12-09 10:41:45,498\tERROR worker.py:422 -- Unhandled error (suppress with 'RAY_IGNORE_UNHANDLED_ERRORS=1'): \u001b[36mray::parallell_runner()\u001b[39m (pid=32572, ip=127.0.0.1)\n",
      "  File \"python\\ray\\_raylet.pyx\", line 1862, in ray._raylet.execute_task\n",
      "  File \"C:\\Users\\torbjsme\\AppData\\Local\\Temp\\ipykernel_16088\\2554263550.py\", line 37, in parallell_runner\n",
      "AttributeError: module 'params' has no attribute 'depth'\n"
     ]
    }
   ],
   "source": [
    "import itertools\n",
    "import time\n",
    "import params\n",
    "from QAOA import QAOArunner\n",
    "from datetime import date\n",
    "import pandas as pd\n",
    "from solver import Solver\n",
    "import ray\n",
    "import numpy as np\n",
    "import yagmail\n",
    "import logging\n",
    "\n",
    "from MaxCutProblem import MaxCutProblem\n",
    "problem = MaxCutProblem()\n",
    "\n",
    "with open(\"email_credentials.txt\", \"r\") as f:\n",
    "    email_password = f.read().strip()\n",
    "import ast\n",
    "import networkx as nx\n",
    "\n",
    "with open(\"test_settings.txt\", \"r\", encoding=\"UTF-16\") as f:\n",
    "    settings = ast.literal_eval(f.read().strip())\n",
    "\n",
    "logging.basicConfig(level=logging.INFO)\n",
    "\n",
    "@ray.remote\n",
    "def parallell_runner(parameters, graph,name):\n",
    "    qaoa = QAOArunner(graph, simulation=True, param_initialization=parameters[0], optimizer =  parameters[1], \n",
    "    qaoa_variant=parameters[2], warm_start=parameters[3], depth = parameters[5])\n",
    "    logging.info(f\"Processing task {parameters}, {name}\")\n",
    "    qaoa.build_circuit()\n",
    "    qaoa.run()\n",
    "    solver = Solver(graph)\n",
    "    bitstring, value = solver.solve()\n",
    "    return {'param_initialization': parameters[0], 'optimizer': parameters[1],'qaoa_variant': parameters[2], 'warm_start' : parameters[3], \n",
    "    'errors':parameters[4], 'depth' : parameters[5], 'graph_size': len(graph.nodes()), 'graph_name' : name,\n",
    "        'time_elapsed': qaoa.time_elapsed, 'quantum_func_evals': qaoa.fev, 'obj_func_evolution': qaoa.objective_func_vals,\n",
    "        'quantum_solution':qaoa.solution, 'quantum_obj_value' : qaoa.objective_value, \n",
    "        'classic_solution' : bitstring, 'classic_value': value }\n",
    "\n",
    "\n",
    "if ray.is_initialized():\n",
    "    ray.shutdown()\n",
    "    print('Shutting down old Ray instance.')\n",
    "ray.init(num_cpus=15)\n",
    "\n",
    "data = []\n",
    "\n",
    "graphs, names = [],[]\n",
    "\n",
    "\n",
    "for i in range(9,4, -1):\n",
    "    graphs_i, names_i = problem.get_test_graphs(i)\n",
    "    graphs.append(graphs_i) #TODO: check that this works for very small values\n",
    "    names.append(names_i)\n",
    "print(len(graphs))\n",
    "graphs = list(itertools.chain.from_iterable(graphs))\n",
    "names = list(itertools.chain.from_iterable(names))\n",
    "\n",
    "combos = [settings, graphs]\n",
    "print('combos', len(combos))\n",
    "\n",
    "all_combos = list(itertools.product(*combos))\n",
    "\n",
    "\n",
    "all_combos = [combo + (names[graphs.index(combo[1])],) for combo in all_combos]\n",
    "all_combos_dict = [{\"parameters\": combo[0], \"graph\": combo[1], \"name\": combo[2]} for combo in all_combos]\n",
    "#TODO: make dictionary\n",
    "print('len all_combos',len(all_combos))\n",
    "\n",
    "print('Settings:', settings)\n",
    "\n",
    "futures = [parallell_runner.remote(parameters, graph, name) for parameters, graph, name in all_combos]\n",
    "\n",
    "result_ids, unfinished = ray.wait(futures, timeout = 60*60*12, num_returns = len(all_combos))\n",
    "for task in unfinished:\n",
    "    ray.cancel(task)\n",
    "underway_df = pd.DataFrame(ray.get(result_ids))\n",
    "underway_df.to_csv(f'results_underway.csv', mode='a', header=False)\n",
    "data.extend(ray.get(result_ids))\n",
    "print(f'Done with Parameters: {settings} at time: {time.time()}')\n",
    "\n",
    "\n",
    "df = pd.DataFrame(data)\n",
    "df.to_csv('data.csv', index=False)\n",
    "\n",
    "yag = yagmail.SMTP(\"torbjorn.solstorm@gmail.com\", email_password)\n",
    "recipient = \"torbjorn.smed@gmail.com\"\n",
    "subject = \"Data from Python Script\"\n",
    "body = \"Here is the data you requested.\"\n",
    "attachment = \"data.csv\"\n",
    "\n",
    "yag.send( subject=subject, contents=body, attachments=attachment)\n",
    "print(\"Email sent successfully!\")\n",
    "\n",
    "\n",
    "df = pd.DataFrame(data)\n",
    "df.to_csv(f'results_.csv')\n"
   ]
  }
 ],
 "metadata": {
  "kernelspec": {
   "display_name": "myenv",
   "language": "python",
   "name": "python3"
  },
  "language_info": {
   "codemirror_mode": {
    "name": "ipython",
    "version": 3
   },
   "file_extension": ".py",
   "mimetype": "text/x-python",
   "name": "python",
   "nbconvert_exporter": "python",
   "pygments_lexer": "ipython3",
   "version": "3.10.8"
  }
 },
 "nbformat": 4,
 "nbformat_minor": 2
}
