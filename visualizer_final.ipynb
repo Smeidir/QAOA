{
 "cells": [
  {
   "cell_type": "code",
   "execution_count": 4,
   "metadata": {},
   "outputs": [
    {
     "name": "stdout",
     "output_type": "stream",
     "text": [
      "Length of the combined DataFrame: 3000\n"
     ]
    }
   ],
   "source": [
    "import pandas as pd\n",
    "import os\n",
    "\n",
    "# Assuming results is a list of DataFrames\n",
    "results = []\n",
    "for filename in os.listdir('results'):\n",
    "    if filename.endswith('.csv'):\n",
    "        df = pd.read_csv(os.path.join('results', filename))\n",
    "        results.append(df)\n",
    "combined_df = pd.concat(results, ignore_index=True)\n",
    "length_of_combined_df = len(combined_df)\n",
    "\n",
    "print(\"Length of the combined DataFrame:\", length_of_combined_df)\n",
    "combined_df.to_csv('combined_results.csv', index=False)"
   ]
  },
  {
   "cell_type": "code",
   "execution_count": null,
   "metadata": {},
   "outputs": [],
   "source": []
  }
 ],
 "metadata": {
  "kernelspec": {
   "display_name": "myenv",
   "language": "python",
   "name": "python3"
  },
  "language_info": {
   "codemirror_mode": {
    "name": "ipython",
    "version": 3
   },
   "file_extension": ".py",
   "mimetype": "text/x-python",
   "name": "python",
   "nbconvert_exporter": "python",
   "pygments_lexer": "ipython3",
   "version": "3.10.8"
  }
 },
 "nbformat": 4,
 "nbformat_minor": 2
}
